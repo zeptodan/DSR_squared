{
 "cells": [
  {
   "cell_type": "markdown",
   "metadata": {},
   "source": [
    "# Vector Matrix Generation"
   ]
  },
  {
   "cell_type": "code",
   "execution_count": null,
   "metadata": {},
   "outputs": [],
   "source": [
    "import pandas\n",
    "import spacy\n",
    "import numpy\n",
    "from tqdm import tqdm\n",
    "\n",
    "#FILENAMES\n",
    "lexi = \"LexiconFinal.csv\"\n",
    "spacy_model = \"en_core_web_lg\"\n",
    "########################################################\n",
    "nlp = spacy.load(spacy_model)\n",
    "Lexicon = pandas.read_csv(lexi, usecols=[1, 2])\n",
    "\n",
    "#extract words\n",
    "words= Lexicon.iloc[:, 0]\n",
    "\n",
    "\n",
    "#Generate a list of vectors\n",
    "vectors = []\n",
    "for word in tqdm(words, desc = \"Loading vectors\"):\n",
    "  vectors.append(nlp(str(word)).vector)\n",
    "\n",
    "vectors = numpy.array(vectors)\n",
    "vectors = vectors.astype(numpy.float32)\n",
    "\n",
    "numpy.save(\"vectors.npy\", vectors)"
   ]
  },
  {
   "cell_type": "markdown",
   "metadata": {},
   "source": [
    "# Vector Clustering and Reduction"
   ]
  },
  {
   "cell_type": "code",
   "execution_count": null,
   "metadata": {},
   "outputs": [],
   "source": [
    "from sklearn.cluster import KMeans\n",
    "from sklearn.manifold import TSNE\n",
    "from sklearn.preprocessing import normalize\n",
    "import numpy as np\n",
    "import faiss\n",
    "import pandas\n",
    "\n",
    "new_lexi = \"Clusters_KMEANS.csv\"\n",
    "\n",
    "########################################################\n",
    "\n",
    "# Load vectors\n",
    "vectors = np.load(\"vectors.npy\")\n",
    "\n",
    "# Normalize vectors\n",
    "print(\"Normalizing\\n\")\n",
    "vectors = normalize(vectors)\n",
    "\n",
    "# Reduce dimensions with PCA\n",
    "print(\"Reducing dimensions with PCA\\n\")\n",
    "pca = faiss.PCAMatrix(300, 50)\n",
    "pca.train(vectors)\n",
    "vectors = pca.apply_py(vectors)\n",
    "\n",
    "\n",
    "\n",
    "# Generate cluster labels\n",
    "print(\"Using KMEANS\\n\")\n",
    "algo = KMeans(init='k-means++', n_clusters=400, random_state=42)\n",
    "clusters = algo.fit_predict(vectors)\n",
    "\n",
    "# Save cluster labels\n",
    "numpy.save(\"clusters.npy\", clusters)\n",
    "\n",
    "# Append cluster labels to lexicon and save\n",
    "print(\"\\nWriting to file\")\n",
    "Lexicon = pandas.read_csv('LexiconFinal.csv', usecols=[1, 2])\n",
    "Lexicon['Clusters'] = clusters\n",
    "Lexicon.to_csv(new_lexi, header=['Word', 'ID', 'Cluster'], index=False)\n",
    "\n",
    "# Reduce dimensionality for 3D visualization\n",
    "print(\"Reducing dimensionality to 3D for visualization\\n\")\n",
    "tsne = TSNE(n_components=3, random_state=42, perplexity=30, max_iter=1000)\n",
    "vectors_3d = tsne.fit_transform(vectors)\n",
    "\n",
    "numpy.save(\"vectors_3D_tSNE.npy\", vectors_3d)\n",
    "\n",
    "\n",
    "print(\"Reducing dimensionality to 2D for visualization\\n\")\n",
    "tsne = TSNE(n_components=2, random_state=42, perplexity=30, max_iter=500)\n",
    "vectors_2d = tsne.fit_transform(vectors)\n",
    "numpy.save(\"vectors_2D_tSNE.npy\", vectors_2d)\n"
   ]
  },
  {
   "cell_type": "markdown",
   "metadata": {},
   "source": [
    "# Visualization"
   ]
  },
  {
   "cell_type": "markdown",
   "metadata": {},
   "source": [
    "## 3D Point Cloud"
   ]
  },
  {
   "cell_type": "code",
   "execution_count": null,
   "metadata": {},
   "outputs": [],
   "source": [
    "import pandas as pd\n",
    "import plotly.express as px\n",
    "\n",
    "Lexicon = pandas.read_csv(\"LexiconFinal.csv\", usecols=[1])\n",
    "words = Lexicon.iloc[:, 0]\n",
    "\n",
    "clusters = numpy.load(\"clusters.npy\")\n",
    "vectors_3d = numpy.load(\"vectors_tSNE.npy\")\n",
    "\n",
    "df = pd.DataFrame({\n",
    "    'x': vectors_3d[:, 0],\n",
    "    'y': vectors_3d[:, 1],\n",
    "    'z': vectors_3d[:, 2],\n",
    "    'Cluster': clusters,\n",
    "    'Word': words  # Word on hover\n",
    "})\n",
    "\n",
    "fig = px.scatter_3d(\n",
    "    df, \n",
    "    x='x', y='y', z='z', \n",
    "    color='Cluster',\n",
    "    color_continuous_scale=px.colors.qualitative.Set3,\n",
    "    title=\"3D Visualization of Clusters\",\n",
    "    opacity=0.7,\n",
    "    hover_name='Word'  # Use 'Word' column for hover text\n",
    ")\n",
    "fig.update_traces(marker=dict(size=3))\n",
    "\n",
    "fig.show()\n"
   ]
  },
  {
   "cell_type": "markdown",
   "metadata": {},
   "source": [
    "## 2D"
   ]
  },
  {
   "cell_type": "code",
   "execution_count": null,
   "metadata": {},
   "outputs": [],
   "source": [
    "import pandas as pd\n",
    "import plotly.express as px\n",
    "\n",
    "Lexicon = pandas.read_csv(\"LexiconFinal.csv\", usecols=[1])\n",
    "words = Lexicon.iloc[:, 0]\n",
    "\n",
    "clusters = numpy.load(\"clusters.npy\")\n",
    "vectors_3d = numpy.load(\"vectors_tSNE.npy\")\n",
    "\n",
    "df_2d = pd.DataFrame({\n",
    "    'x': vectors_3d[:, 0],  #first dimension\n",
    "    'y': vectors_3d[:, 1],  #second dimension\n",
    "    'Cluster': clusters,\n",
    "    'Word': words  #Word on hover\n",
    "})\n",
    "\n",
    "# Plot interactive 2D scatter\n",
    "fig_2d = px.scatter(\n",
    "    df_2d,\n",
    "    x='x', y='y',\n",
    "    color='Cluster',\n",
    "    color_continuous_scale=px.colors.qualitative.Set3,\n",
    "    title=\"2D Visualization of Clusters\",\n",
    "    hover_name='Word',  # Use 'Word' column for hover text\n",
    "    opacity=0.7\n",
    ")\n",
    "fig_2d.update_traces(marker=dict(size=5))\n",
    "\n",
    "fig_2d.show()"
   ]
  },
  {
   "cell_type": "markdown",
   "metadata": {},
   "source": [
    "# Barreling"
   ]
  },
  {
   "cell_type": "code",
   "execution_count": null,
   "metadata": {},
   "outputs": [],
   "source": [
    "import pandas as pd\n",
    "import os\n",
    "import json\n",
    "from tqdm import tqdm\n",
    "\n",
    "df = pd.read_csv(\".\\\\Barrels\\\\Clusters_KMEANS.csv\", usecols=[1, 2])\n",
    "Barrels = dict(zip(df['ID'], df['Cluster']))\n",
    "\n",
    "with open(\"Inverted_index.json\", \"r\") as file:\n",
    "    inverted_index = json.load(file)\n",
    "for index_str, value in tqdm(inverted_index.items(), desc=\"Index: \"):\n",
    "    index = int(index_str)\n",
    "    # Get the barrel (cluster) for this index\n",
    "    barrel = Barrels.get(index)\n",
    "    if barrel is None:\n",
    "        print(f\"Warning: No barrel found for index {index}\")\n",
    "        continue\n",
    "    barrel_file = f\".\\\\Barrels\\\\Index_Barrels\\\\{barrel}.json\"\n",
    "    if not os.path.exists(barrel_file):\n",
    "        with open(barrel_file, 'w') as file:\n",
    "            json.dump({index_str: value}, file, separators=(',',':'))\n",
    "    else:\n",
    "        with open(barrel_file, 'r+') as file:\n",
    "            try:\n",
    "                data = json.load(file)\n",
    "                data[index_str] = value  \n",
    "                file.seek(0)\n",
    "                json.dump(data, file, separators=(',',':'))\n",
    "                file.truncate()\n",
    "            except json.JSONDecodeError:\n",
    "                file.seek(0)\n",
    "                json.dump({index_str: value}, file, separators=(',',':'))"
   ]
  }
 ],
 "metadata": {
  "kernelspec": {
   "display_name": "PythonEnvironment",
   "language": "python",
   "name": "python3"
  },
  "language_info": {
   "name": "python",
   "version": "3.10.15"
  }
 },
 "nbformat": 4,
 "nbformat_minor": 2
}
